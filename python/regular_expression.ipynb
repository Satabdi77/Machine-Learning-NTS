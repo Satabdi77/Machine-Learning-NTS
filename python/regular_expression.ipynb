{
 "cells": [
  {
   "cell_type": "code",
   "execution_count": 4,
   "metadata": {},
   "outputs": [
    {
     "name": "stdout",
     "output_type": "stream",
     "text": [
      "['27', '43', '26', '21']\n",
      "['Ram', 'Hari', 'Gita', 'Sita']\n",
      "{'Ram': '27', 'Hari': '43', 'Gita': '26', 'Sita': '21'}\n"
     ]
    }
   ],
   "source": [
    "import re\n",
    "nameAge= '''Ram is 27 an Hari is 43\n",
    "Gita is 26 and Sita is 21'''\n",
    "ages=re.findall(r'\\d{1,9}',nameAge)#find 1 to 9 digit\n",
    "print(ages)\n",
    "\n",
    "names=re.findall(r'[A-Z][a-z]*',nameAge)\n",
    "print(names)\n",
    "\n",
    "Emp_Disc={}\n",
    "x=0\n",
    "\n",
    "for eachname in names:\n",
    "    Emp_Disc[eachname]=ages[x]\n",
    "    x+=1\n",
    "print(Emp_Disc)"
   ]
  },
  {
   "cell_type": "code",
   "execution_count": null,
   "metadata": {},
   "outputs": [],
   "source": []
  }
 ],
 "metadata": {
  "kernelspec": {
   "display_name": "Python 3",
   "language": "python",
   "name": "python3"
  },
  "language_info": {
   "codemirror_mode": {
    "name": "ipython",
    "version": 3
   },
   "file_extension": ".py",
   "mimetype": "text/x-python",
   "name": "python",
   "nbconvert_exporter": "python",
   "pygments_lexer": "ipython3",
   "version": "3.6.4"
  }
 },
 "nbformat": 4,
 "nbformat_minor": 2
}
