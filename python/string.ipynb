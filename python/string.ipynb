{
 "cells": [
  {
   "cell_type": "code",
   "execution_count": 3,
   "metadata": {},
   "outputs": [
    {
     "name": "stdout",
     "output_type": "stream",
     "text": [
      "ram gopal\n",
      "ram gopal\n"
     ]
    }
   ],
   "source": [
    "#string #string #string\n",
    "a='ram'\n",
    "b='gopal'\n",
    "print(a+' '+b)\n",
    "print(\"%s %s\"%(a,b))"
   ]
  },
  {
   "cell_type": "code",
   "execution_count": 11,
   "metadata": {},
   "outputs": [
    {
     "name": "stdout",
     "output_type": "stream",
     "text": [
      "20\n",
      "y\n",
      " \n",
      "a\n",
      "am lea\n",
      "am learning py\n",
      "a erigpto\n",
      "nohtyp gninrael ma i\n"
     ]
    }
   ],
   "source": [
    "a='i am learning python'\n",
    "b='iamlearningpython'\n",
    "print(len(a))\n",
    "print(max(a))\n",
    "print(min(a))#takes space\n",
    "print(min(b))\n",
    "print(a[2:8])\n",
    "print(a[2:-4])#from last\n",
    "print(a[2:len(a):2])#skip 2-1=1char skip #n-1 skip #(start:stop:skip)\n",
    "#if skip value is not defined den by default 1 ll b taken \n",
    "print(a[::-1])#reverse for -1,:: 0 to last\n"
   ]
  },
  {
   "cell_type": "code",
   "execution_count": 19,
   "metadata": {},
   "outputs": [
    {
     "name": "stdout",
     "output_type": "stream",
     "text": [
      "I am learning python\n",
      "I AM LEARNING PYTHON\n",
      "i am learning python\n",
      "2\n",
      "1\n",
      "2\n",
      "7\n",
      "9\n",
      "9\n",
      "-1\n"
     ]
    }
   ],
   "source": [
    "print(a.capitalize())#1st letter capital\n",
    "print(a.upper())\n",
    "print(a.lower())\n",
    "print(a.count('a'))#count no of letter a\n",
    "print(a.count('a',3,len(a)))#start from 3 to last count 'a'\n",
    "print(a.index('a'))#position gives\n",
    "print(a.index('a',3,len(a)))\n",
    "print(a.index('n'))\n",
    "#print(a.index('z'))show error bcoz z is not in a #when not found\n",
    "print(a.find('n'))\n",
    "print(a.find('z'))#it gives -1 that is difference b/w find n index"
   ]
  },
  {
   "cell_type": "code",
   "execution_count": 27,
   "metadata": {},
   "outputs": [
    {
     "name": "stdout",
     "output_type": "stream",
     "text": [
      "hezzzzo fish,have a nice day\n",
      "hezzzzo fish,have a zzl nice ll day\n",
      "hello fish,have a nice day\n",
      "hello fish,have a nice day\n"
     ]
    }
   ],
   "source": [
    "str1='hello fish,have a nice day'\n",
    "print(str1.replace('l',\"zz\"))#'l' replaced wid 'zz' \n",
    "#if 'L' is der den it ll not work bcoz case sensitive\n",
    "str2='hello fish,have a ll nice ll day'\n",
    "print(str2.replace('l',\"zz\",3))# convert 1st 3 'l' to 'zz'\n",
    "\n",
    "str3='   hello fish,have a nice day    '\n",
    "print(str3.strip())#remove leading and trailing spaces\n",
    "\n",
    "str4='@hello fish,have a nice day@'\n",
    "print(str4.strip('@'))#remove special character also"
   ]
  },
  {
   "cell_type": "code",
   "execution_count": 31,
   "metadata": {},
   "outputs": [
    {
     "name": "stdout",
     "output_type": "stream",
     "text": [
      "['ram', 'is', 'a', 'good', 'boy']\n",
      "['ram', 'is', 'a good boy']\n",
      "['ram', 'is a good boy']\n"
     ]
    }
   ],
   "source": [
    "#split #split\n",
    "x='ram is a good boy'\n",
    "print(x.split())#bydefault takes spaces\n",
    "print(x.split(' ',2))#takes 2 spaces  # we can take '@' also\n",
    "print(x.split(' ',1))"
   ]
  },
  {
   "cell_type": "code",
   "execution_count": null,
   "metadata": {},
   "outputs": [],
   "source": []
  }
 ],
 "metadata": {
  "kernelspec": {
   "display_name": "Python 3",
   "language": "python",
   "name": "python3"
  },
  "language_info": {
   "codemirror_mode": {
    "name": "ipython",
    "version": 3
   },
   "file_extension": ".py",
   "mimetype": "text/x-python",
   "name": "python",
   "nbconvert_exporter": "python",
   "pygments_lexer": "ipython3",
   "version": "3.6.4"
  }
 },
 "nbformat": 4,
 "nbformat_minor": 2
}
