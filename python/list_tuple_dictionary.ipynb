{
 "cells": [
  {
   "cell_type": "code",
   "execution_count": 15,
   "metadata": {},
   "outputs": [
    {
     "name": "stdout",
     "output_type": "stream",
     "text": [
      "[1, 2, 3, 4, 5]\n",
      "['ram', 'shyam', 'ravi', 'gopal', 'ali']\n",
      "ravi\n",
      "['ram', 'shyam', 'hari', 'gopal', 'ali']\n",
      "['ram', 'shyam', 'hari', 'gopal', 'ali', 8]\n",
      "['ram', 'shyam', 'rahim', 'hari', 'gopal', 'ali', 8]\n",
      "['shyam', 'rahim', 'hari', 'gopal', 'ali', 8]\n",
      "['shyam', 'rahim', 'hari', 'gopal', 8]\n",
      "['shyam', 'rahim', 'hari', 'gopal']\n"
     ]
    }
   ],
   "source": [
    "a=[1,2,3,4,5]#list\n",
    "print(a)\n",
    "str=['ram','shyam','ravi','gopal','ali']#list\n",
    "print(str)\n",
    "print(str[2])#2nd index\n",
    "str[2]='hari'#replace content#replace\n",
    "print(str)\n",
    "str.append(8)#it ll append on last\n",
    "print(str)\n",
    "str.insert(2,'rahim')#change the content of position#insert\n",
    "print(str)\n",
    "str.remove('ram')#to remove a string\n",
    "print(str)\n",
    "del str[4]#delete from 4th position\n",
    "print(str)\n",
    "print(str[0:4])#slicing 0 to n-1"
   ]
  },
  {
   "cell_type": "code",
   "execution_count": 20,
   "metadata": {},
   "outputs": [
    {
     "name": "stdout",
     "output_type": "stream",
     "text": [
      "[[1, 2, 3, 4], [5, 6, 7, 8]]\n",
      "[1, 2, 3, 4, 5, 6, 7, 8]\n",
      "2\n",
      "8\n",
      "[1, 2, 3, 4]\n"
     ]
    }
   ],
   "source": [
    "a=[1,2,3,4]\n",
    "b=[5,6,7,8]\n",
    "c=[a,b]#list with in a list\n",
    "print(c)\n",
    "d=a+b#merge 2 list\n",
    "print(d)\n",
    "print(len(c))#2lists\n",
    "print(len(d))#8elements\n"
   ]
  },
  {
   "cell_type": "code",
   "execution_count": 22,
   "metadata": {},
   "outputs": [
    {
     "name": "stdout",
     "output_type": "stream",
     "text": [
      "['ali', 'gopal', 'ram', 'ravi', 'shyam']\n",
      "['shyam', 'ravi', 'ram', 'gopal', 'ali']\n"
     ]
    }
   ],
   "source": [
    "str=['ram','shyam','ravi','gopal','ali']\n",
    "str.sort()#alphabetically\n",
    "print(str)\n",
    "str.reverse()#reverse alphabetical order\n",
    "print(str)"
   ]
  },
  {
   "cell_type": "code",
   "execution_count": 26,
   "metadata": {},
   "outputs": [
    {
     "name": "stdout",
     "output_type": "stream",
     "text": [
      "shyam\n",
      "ali\n",
      "shyam\n",
      "ali\n",
      "['ram', 'shyam', 'ravi', 'gopal', 'ali']\n",
      "['ram', 'shyam', 'ravan']\n"
     ]
    }
   ],
   "source": [
    "str=['ram','shyam','ravi','gopal','ali']\n",
    "str1=['ram','shyam','ravan']\n",
    "print(max(str))\n",
    "print(min(str))\n",
    "c=str+str1\n",
    "s=[str,str1]\n",
    "print(max(c))\n",
    "print(min(c))\n",
    "print(max(s))#compare 1st letter of each woed\n",
    "print(min(s))"
   ]
  },
  {
   "cell_type": "code",
   "execution_count": 32,
   "metadata": {},
   "outputs": [
    {
     "name": "stdout",
     "output_type": "stream",
     "text": [
      "4\n",
      "1\n",
      "4\n",
      "(1, 2, 3, 4, 5, 6, 7, 8)\n",
      "(1, 2, 3, 4, 7, 2, 6, 1)\n"
     ]
    }
   ],
   "source": [
    "#tuples#tuples#tuples\n",
    "a=(1,2,3,4)\n",
    "b=(5,6,7,8)\n",
    "s=[7,2,6,1]#list\n",
    "print(max(a))\n",
    "print(min(a))\n",
    "print(len(a))\n",
    "#a.append(6)#immutable so give error#unchangable\n",
    "c=(a+b)\n",
    "print(c)\n",
    "#k=a+s will show error bcoz list+tuple cant be concatenated\n",
    "l=tuple(s)#list to tuple converter\n",
    "k=a+l\n",
    "print(k)\n",
    "f=list(a)#tuple to list converter"
   ]
  },
  {
   "cell_type": "code",
   "execution_count": 37,
   "metadata": {},
   "outputs": [
    {
     "name": "stdout",
     "output_type": "stream",
     "text": [
      "{1: 'ram', 2: 'hari', 3: 'rahim'}\n",
      "{1: 'ram', 2: 'hari', 3: 'rahim', 4: 'gopal'}\n",
      "{1: 'sat', 2: 'hari', 3: 'rahim', 4: 'gopal'}\n",
      "hari\n",
      "dict_keys([1, 2, 3, 4])\n",
      "dict_values(['sat', 'hari', 'rahim', 'gopal'])\n"
     ]
    }
   ],
   "source": [
    "#dictionary #dictionary #dictionary\n",
    "mydic={1:'ram',2:'hari',3:'rahim'}#key:value\n",
    "print(mydic)\n",
    "mydic[4]='gopal'#append at 4th position\n",
    "print(mydic)\n",
    "mydic[1]='sat'#change 1st position value\n",
    "print(mydic)\n",
    "print(mydic.get(2))#to get 2nd key value\n",
    "print(mydic.keys())#show keys\n",
    "print(mydic.values())#only values"
   ]
  },
  {
   "cell_type": "code",
   "execution_count": null,
   "metadata": {},
   "outputs": [],
   "source": []
  },
  {
   "cell_type": "code",
   "execution_count": null,
   "metadata": {},
   "outputs": [],
   "source": []
  },
  {
   "cell_type": "code",
   "execution_count": null,
   "metadata": {},
   "outputs": [],
   "source": []
  },
  {
   "cell_type": "code",
   "execution_count": null,
   "metadata": {},
   "outputs": [],
   "source": []
  }
 ],
 "metadata": {
  "kernelspec": {
   "display_name": "Python 3",
   "language": "python",
   "name": "python3"
  },
  "language_info": {
   "codemirror_mode": {
    "name": "ipython",
    "version": 3
   },
   "file_extension": ".py",
   "mimetype": "text/x-python",
   "name": "python",
   "nbconvert_exporter": "python",
   "pygments_lexer": "ipython3",
   "version": "3.6.4"
  }
 },
 "nbformat": 4,
 "nbformat_minor": 2
}
