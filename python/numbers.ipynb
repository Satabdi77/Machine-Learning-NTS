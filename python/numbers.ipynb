{
 "cells": [
  {
   "cell_type": "code",
   "execution_count": 2,
   "metadata": {},
   "outputs": [
    {
     "name": "stdout",
     "output_type": "stream",
     "text": [
      "my 1st python program\n"
     ]
    }
   ],
   "source": [
    "print(\"my 1st python program\")"
   ]
  },
  {
   "cell_type": "code",
   "execution_count": 3,
   "metadata": {},
   "outputs": [
    {
     "name": "stdout",
     "output_type": "stream",
     "text": [
      "rakesh\n"
     ]
    }
   ],
   "source": [
    "name='rakesh'\n",
    "print(name)"
   ]
  },
  {
   "cell_type": "code",
   "execution_count": 9,
   "metadata": {},
   "outputs": [
    {
     "name": "stdout",
     "output_type": "stream",
     "text": [
      "the sum of 5+2 is: 7\n",
      "5*2: 10\n",
      "5**2: 25\n",
      "5//2: 2\n",
      "5/2: 2.5\n",
      "1+2*3-6= 1\n"
     ]
    }
   ],
   "source": [
    "print(\"the sum of 5+2 is:\",(5+2))\n",
    "print(\"5*2:\",5*2)\n",
    "print(\"5**2:\",5**2)#power\n",
    "print(\"5//2:\",5//2)#float division\n",
    "print(\"5/2:\",5/2)\n",
    "print('1+2*3-6=',1+2*3-6)"
   ]
  },
  {
   "cell_type": "code",
   "execution_count": 12,
   "metadata": {},
   "outputs": [
    {
     "name": "stdout",
     "output_type": "stream",
     "text": [
      "sachinramesh\n",
      "sachin ramesh\n",
      "the god of cricket is sachin ramesh\n"
     ]
    }
   ],
   "source": [
    "name1='sachin'\n",
    "name2='ramesh'\n",
    "print (name1+name2)#concatenation\n",
    "print (name1+\" \"+name2)#with space\n",
    "print(\"%s %s %s\" %(\"the god of cricket is\",name1,name2))"
   ]
  },
  {
   "cell_type": "code",
   "execution_count": null,
   "metadata": {},
   "outputs": [],
   "source": [
    "#this is single line comment\n",
    "'''this is multiline comment'''\n"
   ]
  }
 ],
 "metadata": {
  "kernelspec": {
   "display_name": "Python 3",
   "language": "python",
   "name": "python3"
  },
  "language_info": {
   "codemirror_mode": {
    "name": "ipython",
    "version": 3
   },
   "file_extension": ".py",
   "mimetype": "text/x-python",
   "name": "python",
   "nbconvert_exporter": "python",
   "pygments_lexer": "ipython3",
   "version": "3.6.4"
  }
 },
 "nbformat": 4,
 "nbformat_minor": 2
}
