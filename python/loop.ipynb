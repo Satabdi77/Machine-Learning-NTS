{
 "cells": [
  {
   "cell_type": "code",
   "execution_count": 3,
   "metadata": {},
   "outputs": [
    {
     "name": "stdout",
     "output_type": "stream",
     "text": [
      "i am 16\n",
      "i am robot\n"
     ]
    }
   ],
   "source": [
    "a=16\n",
    "if a>=17:\n",
    "    print(\"i am 18\")\n",
    "elif a==16:\n",
    "      print(\"i am 16\")\n",
    "else:\n",
    "    print(\"i am robot\")\n",
    "    \n",
    "    \n",
    "b=16\n",
    "if (b>=17 and b<=5):\n",
    "    print(\"i am 18\")\n",
    "elif not b==16:\n",
    "      print(\"i am 16\")\n",
    "else:\n",
    "    print(\"i am robot\")"
   ]
  },
  {
   "cell_type": "code",
   "execution_count": 6,
   "metadata": {},
   "outputs": [],
   "source": [
    "a=2\n",
    "#b=a++\n",
    "#print(b) #it ll show syntax error. in python it doesnt work"
   ]
  },
  {
   "cell_type": "code",
   "execution_count": 7,
   "metadata": {},
   "outputs": [
    {
     "name": "stdout",
     "output_type": "stream",
     "text": [
      "inside if\n",
      "inside if of if\n"
     ]
    }
   ],
   "source": [
    "#Nested if #Nested if\n",
    "a=50\n",
    "if(a>40):\n",
    "    print(\"inside if\")\n",
    "    if(a==50):\n",
    "        print(\"inside if of if\")\n",
    "    else:\n",
    "         print(\"inside else of if\")\n",
    "else:\n",
    "     print(\"inside else\")"
   ]
  },
  {
   "cell_type": "code",
   "execution_count": 16,
   "metadata": {},
   "outputs": [
    {
     "name": "stdout",
     "output_type": "stream",
     "text": [
      "0 1 2 3 4 5 6 7 8 9 10 11 12 13 14 15 16 17 18 19 "
     ]
    }
   ],
   "source": [
    "for x in range(0,20): # it ll print 0 to 19 in a col\n",
    "#     print(x)\n",
    "    print(x,end=' ')#it ll print in a single row"
   ]
  },
  {
   "cell_type": "code",
   "execution_count": 17,
   "metadata": {},
   "outputs": [
    {
     "name": "stdout",
     "output_type": "stream",
     "text": [
      "0\n",
      "1\n",
      "2\n",
      "3\n",
      "4\n",
      "5\n",
      "6\n",
      "7\n",
      "8\n",
      "9\n",
      "10\n",
      "11\n",
      "12\n",
      "13\n",
      "14\n",
      "15\n",
      "16\n",
      "17\n",
      "18\n",
      "19\n",
      "20\n"
     ]
    }
   ],
   "source": [
    "#while #while\n",
    "a=0\n",
    "while(a<=20):\n",
    "    print(a)\n",
    "    a+=1"
   ]
  },
  {
   "cell_type": "code",
   "execution_count": 20,
   "metadata": {},
   "outputs": [
    {
     "name": "stdout",
     "output_type": "stream",
     "text": [
      "\n",
      "1 2 3 \n",
      "4 5 6 \n",
      "7 8 9 "
     ]
    }
   ],
   "source": [
    "p=[[1,2,3],[4,5,6],[7,8,9]]\n",
    "for x in range(0,3):\n",
    "    print()# print new line\n",
    "    for y in range(0,3):\n",
    "        print(p[x][y],end=\" \")"
   ]
  },
  {
   "cell_type": "code",
   "execution_count": 23,
   "metadata": {},
   "outputs": [
    {
     "name": "stdout",
     "output_type": "stream",
     "text": [
      "enter name:\n",
      "sat\n",
      "hello sat\n"
     ]
    }
   ],
   "source": [
    "name=input(\"enter name:\\n\")\n",
    "print(\"hello \"+name)\n"
   ]
  },
  {
   "cell_type": "code",
   "execution_count": null,
   "metadata": {},
   "outputs": [],
   "source": []
  },
  {
   "cell_type": "code",
   "execution_count": null,
   "metadata": {},
   "outputs": [],
   "source": []
  },
  {
   "cell_type": "code",
   "execution_count": null,
   "metadata": {},
   "outputs": [],
   "source": []
  },
  {
   "cell_type": "code",
   "execution_count": null,
   "metadata": {},
   "outputs": [],
   "source": []
  }
 ],
 "metadata": {
  "kernelspec": {
   "display_name": "Python 3",
   "language": "python",
   "name": "python3"
  },
  "language_info": {
   "codemirror_mode": {
    "name": "ipython",
    "version": 3
   },
   "file_extension": ".py",
   "mimetype": "text/x-python",
   "name": "python",
   "nbconvert_exporter": "python",
   "pygments_lexer": "ipython3",
   "version": "3.6.4"
  }
 },
 "nbformat": 4,
 "nbformat_minor": 2
}
